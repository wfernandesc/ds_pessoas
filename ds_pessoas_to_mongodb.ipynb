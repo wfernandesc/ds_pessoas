{
 "metadata": {
  "language_info": {
   "codemirror_mode": {
    "name": "ipython",
    "version": 3
   },
   "file_extension": ".py",
   "mimetype": "text/x-python",
   "name": "python",
   "nbconvert_exporter": "python",
   "pygments_lexer": "ipython3",
   "version": "3.8.5-final"
  },
  "orig_nbformat": 2,
  "kernelspec": {
   "name": "python38564bitdesenvcondae9ec5fe8ed5b4748878cbcb2ffddc2d0",
   "display_name": "Python 3.8.5 64-bit ('desenv': conda)"
  }
 },
 "nbformat": 4,
 "nbformat_minor": 2,
 "cells": [
  {
   "cell_type": "code",
   "execution_count": 1,
   "metadata": {},
   "outputs": [],
   "source": [
    "from pymongo import MongoClient\n",
    "import pandas as pd"
   ]
  },
  {
   "cell_type": "code",
   "execution_count": 2,
   "metadata": {},
   "outputs": [],
   "source": [
    "client = MongoClient() # conecta num cliente do MongoDB rodando na sua máquina\n",
    "db = client['rm'] # acessa o banco de dados\n",
    "collection = db['funcionario'] # acessa a minha coleção dentro desse banco de dados"
   ]
  },
  {
   "cell_type": "code",
   "execution_count": 4,
   "metadata": {},
   "outputs": [],
   "source": [
    "from util.apifuncionario import buscaFuncionarios\n",
    "# Retorna dados da API RM\n",
    "data = buscaFuncionarios('')"
   ]
  },
  {
   "cell_type": "code",
   "execution_count": 5,
   "metadata": {},
   "outputs": [],
   "source": [
    "# Normaliza os dados, seleciona colunas e as renomeia\n",
    "df_ori = pd.json_normalize(data)\n",
    "df = df_ori[['CODPESSOA','CODSITUACAO','SALARIO','SEXO','IDADE','CORRACA','GRAUINSTRUCAO','ESTADOCIVIL','NRODEPIRRF','NROFILHOSBRASIL','NOME','Login','API']]\n",
    "df.rename(columns={'Login':'LOGIN'}, inplace=True)\n",
    "#df.drop(columns=['LOGIN','NOME','NRODEPIRRF'], axis=1, inplace=True)\n",
    "\n",
    "df['SEXO'] = df[\"API\"].str.split(\";\", expand = True)[0]\n",
    "df['CORRACA'] = df[\"API\"].str.split(\";\", expand = True)[1]\n",
    "df['GRAUINSTRUCAO'] = df[\"API\"].str.split(\";\", expand = True)[2]\n",
    "df['ESTADOCIVIL'] = df[\"API\"].str.split(\";\", expand = True)[3]\n",
    "df['NROFILHOSBRASIL'] = df[\"API\"].str.split(\";\", expand = True)[5]\n",
    "\n",
    "df.drop(columns=['API'], axis=1, inplace=True)\n",
    "\n",
    "df['NROFILHOSBRASIL'] = pd.to_numeric(df['NROFILHOSBRASIL'])"
   ]
  },
  {
   "cell_type": "code",
   "execution_count": 9,
   "metadata": {},
   "outputs": [],
   "source": [
    "funcionarios = []\n"
   ]
  },
  {
   "cell_type": "code",
   "execution_count": 10,
   "metadata": {},
   "outputs": [],
   "source": [
    "for index, row in df.iterrows():\n",
    "    \n",
    "    func = {}\n",
    "    func['CODPESSOA'] = row['CODPESSOA']\n",
    "    func['CODSITUACAO'] = row['CODSITUACAO']\n",
    "    func['SALARIO'] = row['SALARIO']\n",
    "    func['SEXO'] = row['SEXO']\n",
    "    func['IDADE'] = row['IDADE']\n",
    "    func['CORRACA'] = row['CORRACA']\n",
    "    func['GRAUINSTRUCAO'] = row['GRAUINSTRUCAO']\n",
    "    func['ESTADOCIVIL'] = row['ESTADOCIVIL']\n",
    "    func['LOGIN'] = row['LOGIN']\n",
    "\n",
    "    db.funcionario.insert_one(func)"
   ]
  },
  {
   "cell_type": "code",
   "execution_count": null,
   "metadata": {},
   "outputs": [],
   "source": []
  }
 ]
}